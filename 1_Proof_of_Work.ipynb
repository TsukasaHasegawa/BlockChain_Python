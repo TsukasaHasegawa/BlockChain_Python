{
 "cells": [
  {
   "cell_type": "markdown",
   "metadata": {},
   "source": [
    "# 1. Proof of Work"
   ]
  },
  {
   "cell_type": "markdown",
   "metadata": {},
   "source": [
    "## 1.1 参照記事\n",
    "* https://qiita.com/haystacker/items/a7b0c2552e1fd937a789"
   ]
  },
  {
   "cell_type": "markdown",
   "metadata": {},
   "source": [
    "## 1.2ブロック"
   ]
  },
  {
   "cell_type": "markdown",
   "metadata": {},
   "source": [
    "### 1.2.1 ブロックとは\n",
    "* ブロックチェーンの分散型データベースに格納されるデータの1まとまり。"
   ]
  },
  {
   "cell_type": "markdown",
   "metadata": {},
   "source": [
    "### 1.2.2 ブロックの構造\n",
    "* ヘッダ\n",
    "    * ブロックの情報を識別するためのデータ\n",
    "* トラザクション\n",
    "    * トランザクションの詳細が含まれている\n",
    "* ブロックハッシュ値\n",
    "    * ブロックの一種の識別子であり、ブロックのデータが改ざんされていないことを確認するために使用"
   ]
  },
  {
   "cell_type": "markdown",
   "metadata": {},
   "source": [
    "### 1.2.2 ヘッダの構造\n",
    "* インデックス\n",
    "    * ブロックのインデックス番号\n",
    "* タイムスタンプ\n",
    "    * ブロックが生成された日時\n",
    "* ナンス\n",
    "    * ブロックハッシュの生成に使用されるランダムな値\n",
    "* 前のブロックのハッシュ値\n",
    "    * 前のブロックの一意の識別子であり、ブロックチェーン内の前のブロックに対する参照\n",
    "* マークルルート\n",
    "    * ブロック内のすべてのトランザクションのハッシュ値をマージすることで生成される"
   ]
  },
  {
   "cell_type": "code",
   "execution_count": 2,
   "metadata": {},
   "outputs": [],
   "source": [
    "# ブロックヘッダーのイニシャライザ\n",
    "class Block:\n",
    "    def __init__(self, index, timestamp, nonce, previous_block_hash, merkle_root, transactions):\n",
    "        self.index = index\n",
    "        self.timestamp = timestamp\n",
    "        self.nonce = nonce\n",
    "        self.previous_block_hash = previous_block_hash\n",
    "        self.merkle_root = merkle_root"
   ]
  },
  {
   "cell_type": "markdown",
   "metadata": {},
   "source": [
    "## 1.3 トランザクション"
   ]
  },
  {
   "cell_type": "markdown",
   "metadata": {},
   "source": [
    "### 1.3.1 トランザクションとは\n",
    "* ブロックチェーン上で行われる取引のこと\n",
    "* 保持するデータは用途によって変わる\n",
    "* トランザクションが利用される流れ\n",
    "    1. トランザクションプールに新規登録される\n",
    "    2. マイナー（採掘者）によってトランザクションプールから取り出される\n",
    "    3. 取り出されたトランザクションが新規ブロックに挿入される\n",
    "    4. ブロックがブロックチェーンに登録される\n",
    "    5. トランザクションが承認状態になる"
   ]
  },
  {
   "cell_type": "code",
   "execution_count": 3,
   "metadata": {},
   "outputs": [],
   "source": [
    "from queue import Queue\n",
    "\n",
    "class Blockchain:\n",
    "    def __init__(self):\n",
    "        self.transaction_pool = Queue() # トランザクションプール\n",
    "        \n",
    "    # トランザクションを追加する\n",
    "    ## トランザクションをtransaction_poolにPUTする\n",
    "    ## Queue.putはデータの挿入\n",
    "    ### https://docs.python.org/3/library/queue.html#queue.Queue.put\n",
    "    def add_transaction(self, transaction):\n",
    "        self.transaction_pool.put(transaction)\n",
    "        \n",
    "    # マイニングする\n",
    "    ## transaction_poolからトランザクションを取り出し、リストとしてセットする\n",
    "    ## その後ブロックチェーンとしてブロックを追加する際に transaction_poolを初期化する\n",
    "    def mine_block(self):\n",
    "        ## ...\n",
    "        new_block_transaction = list(self.transaction_pool.queue)\n",
    "        ## ...\n",
    "        while True:\n",
    "            ## ...\n",
    "            # ハッシュ値が要求された難易度より小さい場合、ブロックを追加して終了\n",
    "            if new_block_hash[:self.difficulty] == '0' * self.difficulty:\n",
    "                self.transaction_pool = Queue()\n",
    "                ## ..."
   ]
  },
  {
   "cell_type": "markdown",
   "metadata": {},
   "source": []
  }
 ],
 "metadata": {
  "kernelspec": {
   "display_name": "Python 3",
   "language": "python",
   "name": "python3"
  },
  "language_info": {
   "codemirror_mode": {
    "name": "ipython",
    "version": 3
   },
   "file_extension": ".py",
   "mimetype": "text/x-python",
   "name": "python",
   "nbconvert_exporter": "python",
   "pygments_lexer": "ipython3",
   "version": "3.7.3"
  }
 },
 "nbformat": 4,
 "nbformat_minor": 2
}
