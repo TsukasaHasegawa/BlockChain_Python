{
 "cells": [
  {
   "cell_type": "markdown",
   "metadata": {},
   "source": [
    "# 1. Proof of Work"
   ]
  },
  {
   "cell_type": "markdown",
   "metadata": {},
   "source": [
    "## 1.1 参照記事\n",
    "* https://qiita.com/haystacker/items/a7b0c2552e1fd937a789"
   ]
  },
  {
   "cell_type": "markdown",
   "metadata": {},
   "source": [
    "## 1.2ブロック"
   ]
  },
  {
   "cell_type": "markdown",
   "metadata": {},
   "source": [
    "### 1.2.1 ブロックとは？\n",
    "* ブロックチェーンの分散型データベースに格納されるデータの1まとまり。"
   ]
  },
  {
   "cell_type": "markdown",
   "metadata": {},
   "source": [
    "### 1.2.2 ブロックの構造\n",
    "* ヘッダ\n",
    "    * ブロックの情報を識別するためのデータ\n",
    "* トラザクション\n",
    "    * トランザクションの詳細が含まれている\n",
    "* ブロックハッシュ値\n",
    "    * ブロックの一種の識別子であり、ブロックのデータが改ざんされていないことを確認するために使用"
   ]
  },
  {
   "cell_type": "markdown",
   "metadata": {},
   "source": [
    "### 1.2.2 ヘッダの構造\n",
    "* インデックス\n",
    "    * ブロックのインデックス番号\n",
    "* タイムスタンプ\n",
    "    * ブロックが生成された日時\n",
    "* ナンス\n",
    "    * ブロックハッシュの生成に使用されるランダムな値\n",
    "* 前のブロックのハッシュ値\n",
    "    * 前のブロックの一意の識別子であり、ブロックチェーン内の前のブロックに対する参照\n",
    "* マークルルート\n",
    "    * ブロック内のすべてのトランザクションのハッシュ値をマージすることで生成される"
   ]
  },
  {
   "cell_type": "code",
   "execution_count": 2,
   "metadata": {},
   "outputs": [],
   "source": [
    "# ブロックヘッダーのイニシャライザ\n",
    "class Block:\n",
    "    def __init__(self, index, timestamp, nonce, previous_block_hash, merkle_root, transactions):\n",
    "        self.index = index\n",
    "        self.timestamp = timestamp\n",
    "        self.nonce = nonce\n",
    "        self.previous_block_hash = previous_block_hash\n",
    "        self.merkle_root = merkle_root"
   ]
  },
  {
   "cell_type": "markdown",
   "metadata": {},
   "source": [
    "## 1.3 トランザクション"
   ]
  },
  {
   "cell_type": "markdown",
   "metadata": {},
   "source": [
    "### 1.3.1 トランザクションとは？\n",
    "* ブロックチェーン上で行われる取引のこと\n",
    "* 保持するデータは用途によって変わる\n",
    "* トランザクションが利用される流れ\n",
    "    1. トランザクションプールに新規登録される\n",
    "    2. マイナー（採掘者）によってトランザクションプールから取り出される\n",
    "    3. 取り出されたトランザクションが新規ブロックに挿入される\n",
    "    4. ブロックがブロックチェーンに登録される\n",
    "    5. トランザクションが承認状態になる"
   ]
  },
  {
   "cell_type": "code",
   "execution_count": 3,
   "metadata": {},
   "outputs": [],
   "source": [
    "from queue import Queue\n",
    "\n",
    "class Blockchain:\n",
    "    def __init__(self):\n",
    "        self.transaction_pool = Queue() # トランザクションプール\n",
    "        \n",
    "    # トランザクションを追加する\n",
    "    ## トランザクションをtransaction_poolにPUTする\n",
    "    ## Queue.putはデータの挿入\n",
    "    ### https://docs.python.org/3/library/queue.html#queue.Queue.put\n",
    "    def add_transaction(self, transaction):\n",
    "        self.transaction_pool.put(transaction)\n",
    "        \n",
    "    # マイニングする\n",
    "    ## transaction_poolからトランザクションを取り出し、リストとしてセットする\n",
    "    ## その後ブロックチェーンとしてブロックを追加する際に transaction_poolを初期化する\n",
    "    def mine_block(self):\n",
    "        ## ...\n",
    "        new_block_transaction = list(self.transaction_pool.queue)\n",
    "        ## ...\n",
    "        while True:\n",
    "            ## ...\n",
    "            # ハッシュ値が要求された難易度より小さい場合、ブロックを追加して終了\n",
    "            if new_block_hash[:self.difficulty] == '0' * self.difficulty:\n",
    "                self.transaction_pool = Queue()\n",
    "                ## ..."
   ]
  },
  {
   "cell_type": "markdown",
   "metadata": {},
   "source": [
    "## 1.4 ハッシュとマークルルート\n",
    "### 1.4.1 ハッシュとは？\n",
    "* ハッシュとは、ハッシュ関数でデータから固定長の一意の値を生成したもの\n",
    "    * ハッシュ関数\n",
    "        * 入力した値に対して、特定のルールで全く異なる値を返す関数\n",
    "        * https://wa3.i-3-i.info/word11948.html"
   ]
  },
  {
   "cell_type": "code",
   "execution_count": 2,
   "metadata": {},
   "outputs": [
    {
     "data": {
      "text/plain": [
       "'7f83b1657ff1fc53b92dc18148a1d65dfc2d4b1fa3d677284addd200126d9069'"
      ]
     },
     "execution_count": 2,
     "metadata": {},
     "output_type": "execute_result"
    }
   ],
   "source": [
    "import hashlib\n",
    "\n",
    "# string（入力値）をSHA-256（ハッシュ関数）で変換する\n",
    "## SHA-256\n",
    "### https://e-words.jp/w/SHA-256.html\n",
    "### cf: 文字列の前のbについて\n",
    "#### https://www.tohoho-web.com/python/types.html\n",
    "string1 = b\"Hello World!\"\n",
    "hashlib.sha256(string1).hexdigest()"
   ]
  },
  {
   "cell_type": "code",
   "execution_count": 4,
   "metadata": {},
   "outputs": [
    {
     "data": {
      "text/plain": [
       "'7f83b1657ff1fc53b92dc18148a1d65dfc2d4b1fa3d677284addd200126d9069'"
      ]
     },
     "execution_count": 4,
     "metadata": {},
     "output_type": "execute_result"
    }
   ],
   "source": [
    "# 同じ入力値に同じハッシュ関数を用いた場合、同じ値が出力される\n",
    "string2 = b\"Hello World!\"\n",
    "hashlib.sha256(string2).hexdigest()"
   ]
  },
  {
   "cell_type": "code",
   "execution_count": 6,
   "metadata": {},
   "outputs": [
    {
     "data": {
      "text/plain": [
       "'a591a6d40bf420404a011733cfb7b190d62c65bf0bcda32b57b277d9ad9f146e'"
      ]
     },
     "execution_count": 6,
     "metadata": {},
     "output_type": "execute_result"
    }
   ],
   "source": [
    "# 入力値が異なれば同じハッシュ関数からの出力値も異なる\n",
    "string3 = b\"Hello World\"\n",
    "hashlib.sha256(string3).hexdigest()"
   ]
  },
  {
   "cell_type": "markdown",
   "metadata": {},
   "source": [
    "##### **※ブロックチェーン上の全てのブロックやトランザクションにはハッシュ値が割り当てられているため、すべてのデータが一意に識別され、改ざんされていないことが確認される**"
   ]
  },
  {
   "cell_type": "markdown",
   "metadata": {},
   "source": [
    "## 1.4.2 マークルルートとは？\n",
    "* ブロックチェーンにおいて複数のトランザクションのハッシュ値を1つのハッシュ値にまとめるために使用されるデータ構造\n",
    "    * マークルルートはハッシュ値を木構造（ツリー状）に並べたものであり、ルートのハッシュ値をブロックのヘッダに保存すること。それにより複数のトランザクションの一意性を確認する\n",
    "* マークルルートは複数のトランザクションが含まれるブロックに対して使用される。\n",
    "    * トランザクションのハッシュ値がリーフノードに配置され、隣接するリーフノードのハッシュ値が親ノードのハッシュ値として計算される。これを繰り返すことで全体のハッシュ値がルートに設定される\n",
    "        * リーフノードとは木の様に枝分かれするデータ構造である木構造（ツリー）を構成する要素のうち末端の要素のこと\n",
    "            * https://wa3.i-3-i.info/word14931.html\n",
    "* ブロック内のトランザクションが変更された場合そのハッシュ値も変更され、さらにその親のノードのハッシュ値も変更されるため、ルートのハッシュも変更されることになり、改ざんを検出することができる"
   ]
  },
  {
   "cell_type": "code",
   "execution_count": 7,
   "metadata": {},
   "outputs": [],
   "source": [
    "# SHA-256でハッシュ計算する関数\n",
    "def calculate_hash(self):\n",
    "    block_string = json.dumps({\n",
    "        'index': self.index,                              # インデックス\n",
    "        'timestamp': self.timestamp,                      # タイムスタンプ\n",
    "        'nonce': self.nonce,                              # ナンス\n",
    "        'previous_block_hash': self.previous_block_hashe, # 前のブロックのハッシュ値\n",
    "        'merkle_root': self.merkle_root,                  # マークルルート\n",
    "    }, sort_keys=True).encode()\n",
    "    return hashlib.sha256(block_string).hexdigest()"
   ]
  },
  {
   "cell_type": "markdown",
   "metadata": {},
   "source": [
    "* 前のブロックのハッシュ値は、マイニングする際に前のチェーンの`block_hash`から取得する"
   ]
  },
  {
   "cell_type": "code",
   "execution_count": 8,
   "metadata": {},
   "outputs": [],
   "source": [
    "# マイニングする関数\n",
    "def mine_block(self):\n",
    "    # 直前のブロックを取得する\n",
    "    previous_block = self.chain[-1]\n",
    "    # ...\n",
    "    new_block_previous_hash = previous_block['block_hash']"
   ]
  },
  {
   "cell_type": "markdown",
   "metadata": {},
   "source": [
    "### 1.4.3 マークルルートの実装\n",
    "* マークルルートは以下のアルゴリズムで処理する\n",
    "    1. トランザクション数が0の場合は空文字のハッシュ値を返す\n",
    "    2. トランザクション数が1の場合はそのトランザクションのハッシュ値を返す\n",
    "    3. トランザクション数が奇数の場合は最後の要素を複製して偶数にする\n",
    "    4. 2つのトランザクションを組み合わせてハッシュ値を計算しリストに格納する\n",
    "    5. 「3」~「4」を再帰的に繰り返す"
   ]
  },
  {
   "cell_type": "code",
   "execution_count": 9,
   "metadata": {},
   "outputs": [],
   "source": [
    "# マークルルートを計算する関数\n",
    "def calculate_merkle_root(self, transactions):\n",
    "    # 1.トランザクション数が0の場合は空文字のハッシュ値を返す\n",
    "    if len(transactions) == 0:\n",
    "        return hashlib.sha256(b'').hexdigest()\n",
    "    # 2.トランザクション数が1の場合はそのトランザクションのハッシュ値を返す\n",
    "    if len(transactions) == 1:\n",
    "        return hashlib.sha256(transactions[0].encode()).hexdigest()\n",
    "    # 3.トランザクション数が奇数の場合は最後の要素を複製して偶数にする\n",
    "    if len(transactions) %2 == 1:\n",
    "        transactions.append(transactions[-1])\n",
    "    # ハッシュ値を格納するリストを初期化\n",
    "    hashes = []\n",
    "    # 4.2つのトランザクションを組み合わせてハッシュ値を計算しリストに格納する\n",
    "    for i in range(0, len(transactions), 2):\n",
    "        transaction_pair = transactions[i] + transactions[i+1]\n",
    "        hash_value = hashlib.sha256(transaction_pair.encode()).hexdigest()\n",
    "        hashes.append(hash_value)\n",
    "    # 再帰的にマークルルートを計算する\n",
    "    return self.calculate_merkle_root(hashes)"
   ]
  }
 ],
 "metadata": {
  "kernelspec": {
   "display_name": "Python 3",
   "language": "python",
   "name": "python3"
  },
  "language_info": {
   "codemirror_mode": {
    "name": "ipython",
    "version": 3
   },
   "file_extension": ".py",
   "mimetype": "text/x-python",
   "name": "python",
   "nbconvert_exporter": "python",
   "pygments_lexer": "ipython3",
   "version": "3.7.3"
  }
 },
 "nbformat": 4,
 "nbformat_minor": 2
}
